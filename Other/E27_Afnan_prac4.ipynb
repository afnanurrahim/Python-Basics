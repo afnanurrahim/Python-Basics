{
 "cells": [
  {
   "cell_type": "markdown",
   "metadata": {},
   "source": [
    "## Q1"
   ]
  },
  {
   "cell_type": "code",
   "execution_count": 1,
   "metadata": {},
   "outputs": [],
   "source": [
    "def hotel_cost(nights):\n",
    "    return 140*nights\n",
    "\n",
    "def plane_ride_cost(city):\n",
    "    cities={\"charlotte\": 183, \"tampa\": 220, \"pittsburgh\": 222,\"los angeles\":475}\n",
    "    if city.casefold() in cities:\n",
    "        return cities[city]\n",
    "    else:\n",
    "        print('No flights')\n",
    "\n",
    "def rental_car_cost(days):\n",
    "    cost=days*40\n",
    "    if(days>=7):\n",
    "        cost-=50\n",
    "    elif(days>=3):\n",
    "        cost-=20\n",
    "    return cost\n",
    "\n",
    "def trip_cost(city,days,spending):\n",
    "    total=spending+rental_car_cost(days)+hotel_cost(days)+plane_ride_cost(city)\n",
    "    print('\\nprice of rental car = ',rental_car_cost(days))\n",
    "    print('price of hotel = ',hotel_cost(days))\n",
    "    print('price of plane tickets = ',plane_ride_cost(city))\n",
    "    print('Total trip cost = ',total)"
   ]
  },
  {
   "cell_type": "code",
   "execution_count": 2,
   "metadata": {},
   "outputs": [
    {
     "name": "stdout",
     "output_type": "stream",
     "text": [
      "Enter city tampa\n",
      "Enter no. of days 6\n",
      "Enter spending cost 1000\n",
      "\n",
      "price of rental car =  220\n",
      "price of hotel =  840\n",
      "price of plane tickets =  220\n",
      "Total trip cost =  2280\n"
     ]
    }
   ],
   "source": [
    "city=input('Enter city ')\n",
    "days=int(input('Enter no. of days '))\n",
    "spend=int(input('Enter spending cost '))\n",
    "trip_cost(city,days,spend)"
   ]
  },
  {
   "cell_type": "markdown",
   "metadata": {},
   "source": [
    "## Q2"
   ]
  },
  {
   "cell_type": "code",
   "execution_count": 3,
   "metadata": {},
   "outputs": [
    {
     "name": "stdout",
     "output_type": "stream",
     "text": [
      "A paragraph is a series of related sentences developing a central idea, called the topic. Try to think about paragraphs in terms of thematic unity: a paragraph is a sentence or a group of sentences that supports one central, unified idea. Paragraphs add one idea at a time to your broader argument.\n"
     ]
    }
   ],
   "source": [
    "f = open(\"file.txt\")\n",
    "print(f.read())\n",
    "f.close()"
   ]
  },
  {
   "cell_type": "code",
   "execution_count": 6,
   "metadata": {},
   "outputs": [],
   "source": [
    "def frequency(f):\n",
    "    dict1={}\n",
    "    stopWords = [\"the\",\"a\",\"and\",\".\",\",\"]    \n",
    "    for read in f.readlines():\n",
    "        read.casefold()\n",
    "        words = read.split()\n",
    "        for x in words:\n",
    "            if x not in stopWords:\n",
    "                if x not in dict1:\n",
    "                    dict1[x]=1\n",
    "                else:\n",
    "                    dict1[x]+=1\n",
    "    return dict1"
   ]
  },
  {
   "cell_type": "code",
   "execution_count": 7,
   "metadata": {},
   "outputs": [
    {
     "name": "stdout",
     "output_type": "stream",
     "text": [
      "{'A': 1, 'paragraph': 2, 'is': 2, 'series': 1, 'of': 3, 'related': 1, 'sentences': 2, 'developing': 1, 'central': 1, 'idea,': 1, 'called': 1, 'topic.': 1, 'Try': 1, 'to': 2, 'think': 1, 'about': 1, 'paragraphs': 1, 'in': 1, 'terms': 1, 'thematic': 1, 'unity:': 1, 'sentence': 1, 'or': 1, 'group': 1, 'that': 1, 'supports': 1, 'one': 2, 'central,': 1, 'unified': 1, 'idea.': 1, 'Paragraphs': 1, 'add': 1, 'idea': 1, 'at': 1, 'time': 1, 'your': 1, 'broader': 1, 'argument.': 1}\n"
     ]
    }
   ],
   "source": [
    "f1 = open(\"file.txt\",\"r\")\n",
    "dict1=frequency(f1)\n",
    "print(dict1)\n",
    "f1.close()"
   ]
  },
  {
   "cell_type": "code",
   "execution_count": 8,
   "metadata": {},
   "outputs": [],
   "source": [
    "def keyword(dict1):\n",
    "    maxt=10\n",
    "    k={}\n",
    "    key=\"\"\n",
    "    for i in range(0,3):\n",
    "        max=0\n",
    "        for ele,val in dict1.items():\n",
    "            if val>max:\n",
    "                if val<maxt:\n",
    "                    max = val\n",
    "                    key=ele\n",
    "        maxt=max \n",
    "        k[key]=max\n",
    "\n",
    "    return k"
   ]
  },
  {
   "cell_type": "code",
   "execution_count": 9,
   "metadata": {},
   "outputs": [
    {
     "name": "stdout",
     "output_type": "stream",
     "text": [
      "{'of': 3, 'paragraph': 2, 'A': 1}\n"
     ]
    }
   ],
   "source": [
    "keywords = keyword(dict1)\n",
    "print(keywords)"
   ]
  },
  {
   "cell_type": "code",
   "execution_count": 10,
   "metadata": {},
   "outputs": [],
   "source": [
    "f = open(\"keyword.txt\",\"w\")\n",
    "str=\"\"\n",
    "for k in keywords:\n",
    "    str=k+\"  \"\n",
    "    f.write(str)\n",
    "f.close()"
   ]
  },
  {
   "cell_type": "markdown",
   "metadata": {},
   "source": [
    "## Q3"
   ]
  },
  {
   "cell_type": "code",
   "execution_count": 11,
   "metadata": {},
   "outputs": [
    {
     "name": "stdout",
     "output_type": "stream",
     "text": [
      "stephen.marquard@uct.ac.za\n",
      "acbd@gmail.com\n",
      "123@gmail.com\n",
      "efgh@gmail.com\n",
      "4567@gmail.com\n",
      "afnan@gmail.com\n"
     ]
    }
   ],
   "source": [
    "f = open(\"emails.txt\",\"w\")\n",
    "s='''From stephen.marquard@uct.ac.za Sat Jan 5 09:14:16 2008\n",
    "From acbd@gmail.com Sun Feb 6 09:14:16 2008\n",
    "From 123@gmail.com Sat Mar 7 19:24:36 2009\n",
    "From efgh@gmail.com Sun Apr 8 08:17:18 2010\n",
    "From 4567@gmail.com Sat May 9 14:23:13 2011\n",
    "From afnan@gmail.com Sun Jun 10 12:13:26 2012'''\n",
    "f.write(s)\n",
    "f.close()\n",
    "f = open(\"emails.txt\",\"r\")\n",
    "count = 0\n",
    "for read in f.readlines():\n",
    "    if read.startswith(\"From\"):\n",
    "        count+=1\n",
    "        frag=read.split()\n",
    "        print(frag[1])\n",
    "f.close()"
   ]
  },
  {
   "cell_type": "markdown",
   "metadata": {},
   "source": [
    "## Q4"
   ]
  },
  {
   "cell_type": "code",
   "execution_count": 12,
   "metadata": {},
   "outputs": [],
   "source": [
    "def create_file(file,data):\n",
    "    f = open(file,\"w\")\n",
    "    f.write(data)\n",
    "    f.close()    "
   ]
  },
  {
   "cell_type": "code",
   "execution_count": 14,
   "metadata": {},
   "outputs": [],
   "source": [
    "recepie=\"\"\"\n",
    "Item Name: garlic rice\n",
    "\n",
    "Ingredients\n",
    " \n",
    "    ▢ 2 tbsp oil\n",
    "    ▢ 10 clove garlic (sliced)\n",
    "    ▢ 1 inch ginger (finely chopped)\n",
    "    ▢ 2 chilli (finely chopped)\n",
    "    ▢ 2 tbsp spring onion (chopped)\n",
    "    ▢ ½ onion (finely chopped)\n",
    "    ▢ ½ carrot (chopped)\n",
    "    ▢ ½ capsicum (finely chopped)\n",
    "    ▢ 10 beans (chopped)\n",
    "    ▢ 3 tbsp sweet corn\n",
    "    ▢ 2 tbsp chilli sauce\n",
    "    ▢ 2 tbsp soy sauce\n",
    "    ▢ 1 tbsp vinegar\n",
    "    ▢ 3 tbsp cabbage (shredded)\n",
    "    ▢ 1 tsp pepper powder\n",
    "    ▢ 1 tsp salt\n",
    "    ▢ 4 cup cooked rice\n",
    "\n",
    "Instructions\n",
    "\n",
    "    firstly, in a large wok heat 2 tbsp oil. add 10 cloves of garlic and fry until it turns golden brown and crunchy.\n",
    "    add 1 inch ginger, 2 chilli, 2 tbsp spring onion and stir fry.\n",
    "    now add ½ onion and stir fry until the onions shrink slightly.\n",
    "    further add ½ carrot, ½ capsicum, 10 beans, 3 tbsp sweet corn and stir fry until the vegetables turn crunchy.\n",
    "    make sure not to overcook the vegetables as it turns mushy.\n",
    "    make some gap and add 2 tbsp chilli sauce, 2 tbsp soy sauce and 1 tbsp vinegar.\n",
    "    stir fry until the sauces are well combined.\n",
    "    now add 3 tbsp cabbage, ½ tsp pepper powder and ½ tsp salt. stir fry slightly.\n",
    "    further, add 4 cup of cooked rice, ½ tsp pepper powder and ½ tsp salt.\n",
    "    stir fry making sure everything is well combined without breaking rice.\n",
    "    finally, add 2 tbsp spring onion, and enjoy burnt garlic fried rice.\n",
    "    \n",
    "Star:***\n",
    "\n",
    "\n",
    "Item Name: Pizza\n",
    "\n",
    "Ingredients: \n",
    "140 g Self-rising flour \n",
    "140 g plain yogurt\n",
    "500 g Passata or crushed tomatoes \n",
    "2 Cloves of garlic\n",
    "1.5 tbsp Olive oil\n",
    "Salt to your liking\n",
    "Basil\n",
    "\n",
    "Instruction:\n",
    "Grease a baking pan with extra virgin olive oil, and cook the pizza over a high heat until the bottom is golden brown.\n",
    "Bake in a preheated oven at 200 C (400 F) for 5 minutes, or until the crust is golden brown.\n",
    "Take the pizza out of the oven, brush the top side with oil and top with the toppings of your choice.\n",
    "Return back to oven until cheese is melted.\n",
    "\n",
    "Star:*****\"\"\""
   ]
  },
  {
   "cell_type": "code",
   "execution_count": 15,
   "metadata": {},
   "outputs": [],
   "source": [
    "create_file(\"food.txt\",recepie)"
   ]
  },
  {
   "cell_type": "code",
   "execution_count": 16,
   "metadata": {},
   "outputs": [
    {
     "name": "stdout",
     "output_type": "stream",
     "text": [
      "Enter name of food item: garlic rice\n",
      "\n",
      "Item Name: garlic rice\n",
      "\n",
      "Ingredients\n",
      " \n",
      "    ▢ 2 tbsp oil\n",
      "    ▢ 10 clove garlic (sliced)\n",
      "    ▢ 1 inch ginger (finely chopped)\n",
      "    ▢ 2 chilli (finely chopped)\n",
      "    ▢ 2 tbsp spring onion (chopped)\n",
      "    ▢ ½ onion (finely chopped)\n",
      "    ▢ ½ carrot (chopped)\n",
      "    ▢ ½ capsicum (finely chopped)\n",
      "    ▢ 10 beans (chopped)\n",
      "    ▢ 3 tbsp sweet corn\n",
      "    ▢ 2 tbsp chilli sauce\n",
      "    ▢ 2 tbsp soy sauce\n",
      "    ▢ 1 tbsp vinegar\n",
      "    ▢ 3 tbsp cabbage (shredded)\n",
      "    ▢ 1 tsp pepper powder\n",
      "    ▢ 1 tsp salt\n",
      "    ▢ 4 cup cooked rice\n",
      "\n",
      "Instructions\n",
      "\n",
      "    firstly, in a large wok heat 2 tbsp oil. add 10 cloves of garlic and fry until it turns golden brown and crunchy.\n",
      "    add 1 inch ginger, 2 chilli, 2 tbsp spring onion and stir fry.\n",
      "    now add ½ onion and stir fry until the onions shrink slightly.\n",
      "    further add ½ carrot, ½ capsicum, 10 beans, 3 tbsp sweet corn and stir fry until the vegetables turn crunchy.\n",
      "    make sure not to overcook the vegetables as it turns mushy.\n",
      "    make some gap and add 2 tbsp chilli sauce, 2 tbsp soy sauce and 1 tbsp vinegar.\n",
      "    stir fry until the sauces are well combined.\n",
      "    now add 3 tbsp cabbage, ½ tsp pepper powder and ½ tsp salt. stir fry slightly.\n",
      "    further, add 4 cup of cooked rice, ½ tsp pepper powder and ½ tsp salt.\n",
      "    stir fry making sure everything is well combined without breaking rice.\n",
      "    finally, add 2 tbsp spring onion, and enjoy burnt garlic fried rice.\n",
      "    \n",
      "Star:***\n",
      "\n",
      "\n",
      "Item Name: Pizza\n",
      "\n",
      "Ingredients: \n",
      "140 g Self-rising flour \n",
      "140 g plain yogurt\n",
      "500 g Passata or crushed tomatoes \n",
      "2 Cloves of garlic\n",
      "1.5 tbsp Olive oil\n",
      "Salt to your liking\n",
      "Basil\n",
      "\n",
      "Instruction:\n",
      "Grease a baking pan with extra virgin olive oil, and cook the pizza over a high heat until the bottom is golden brown.\n",
      "Bake in a preheated oven at 200 C (400 F) for 5 minutes, or until the crust is golden brown.\n",
      "Take the pizza out of the oven, brush the top side with oil and top with the toppings of your choice.\n",
      "Return back to oven until cheese is melted.\n",
      "\n",
      "Star:*****\n",
      "~~~~~~~~~~~~~\n",
      "\n",
      " List of food items: \n",
      "\n",
      "\n",
      " garlic rice\n",
      "\n",
      " Pizza\n",
      "\n"
     ]
    }
   ],
   "source": [
    "def contents_of_file():\n",
    "    name=input(\"Enter name of food item: \")\n",
    "    f = open(\"food.txt\",\"r\")\n",
    "    food = f.read()\n",
    "    listfood = food.split(\"_____\")\n",
    "    for ele in listfood:\n",
    "        if name.lower() in ele.lower():\n",
    "            print(ele)\n",
    "    \n",
    "    print(\"~\"*13)\n",
    "    print(\"\\n List of food items: \\n\\n\")\n",
    "    list1=[]\n",
    "    itemlist=[]\n",
    "    \n",
    "    f.seek(0)\n",
    "    for lines in f.readlines():\n",
    "        if(lines.startswith(\"Item Name:\")):\n",
    "            list1 = lines.split(\":\")\n",
    "            itemlist.append((list1[1]))\n",
    "\n",
    "    for ele in itemlist:\n",
    "        print(ele)\n",
    "    f.close()        \n",
    "contents_of_file()"
   ]
  },
  {
   "cell_type": "markdown",
   "metadata": {},
   "source": [
    "## Q5"
   ]
  },
  {
   "cell_type": "code",
   "execution_count": 17,
   "metadata": {},
   "outputs": [
    {
     "name": "stdout",
     "output_type": "stream",
     "text": [
      "Enter the name of Student:Afnan\n",
      "Enter the roll no of Student:27\n",
      "Enter the marks of subject 1:66\n",
      "Enter the marks of subject 2:49\n",
      "Enter the marks of subject 3:89\n",
      "Do you wish to enter more details? (y/n) : y\n",
      "Enter the name of Student:Rahim\n",
      "Enter the roll no of Student:22\n",
      "Enter the marks of subject 1:99\n",
      "Enter the marks of subject 2:76\n",
      "Enter the marks of subject 3:45\n",
      "Do you wish to enter more details? (y/n) : y\n",
      "Enter the name of Student:Ansari\n",
      "Enter the roll no of Student:33\n",
      "Enter the marks of subject 1:79\n",
      "Enter the marks of subject 2:45\n",
      "Enter the marks of subject 3:70\n",
      "Do you wish to enter more details? (y/n) : n\n",
      "\n",
      "\n",
      "Sr. no.  1\n",
      "Name:  Afnan\n",
      "Roll:  27\n",
      "Marks of subject 1:  66\n",
      "Marks of subject 2:  49\n",
      "Marks of subject 3:  89\n",
      "Total marks =  204\n",
      "\n",
      "\n",
      "Sr. no.  2\n",
      "Name:  Rahim\n",
      "Roll:  22\n",
      "Marks of subject 1:  99\n",
      "Marks of subject 2:  76\n",
      "Marks of subject 3:  45\n",
      "Total marks =  220\n",
      "\n",
      "\n",
      "Sr. no.  3\n",
      "Name:  Ansari\n",
      "Roll:  33\n",
      "Marks of subject 1:  79\n",
      "Marks of subject 2:  45\n",
      "Marks of subject 3:  70\n",
      "Total marks =  194\n"
     ]
    }
   ],
   "source": [
    "s=[]\n",
    "ans=\"y\"\n",
    "count=0\n",
    "\n",
    "class student:\n",
    "    \n",
    "    def __init__(self):\n",
    "        global count\n",
    "        self.name = input(\"Enter the name of Student:\")\n",
    "        self.roll = input(\"Enter the roll no of Student:\") \n",
    "        self.m1 = int( input(\"Enter the marks of subject 1:\"))\n",
    "        self.m2 = int( input(\"Enter the marks of subject 2:\"))\n",
    "        self.m3 = int( input(\"Enter the marks of subject 3:\"))\n",
    "        count+=1\n",
    "        self.i=count\n",
    "        \n",
    "    def display():\n",
    "        global s\n",
    "        for ele in s:\n",
    "            print(\"\\n\")            \n",
    "            print(\"Sr. no. \",ele.i)\n",
    "            print(\"Name: \",ele.name)\n",
    "            print(\"Roll: \",ele.roll)\n",
    "            print(\"Marks of subject 1: \",ele.m1)\n",
    "            print(\"Marks of subject 2: \",ele.m2)\n",
    "            print(\"Marks of subject 3: \",ele.m3)\n",
    "            print(\"Total marks = \",ele.m1+ele.m2+ele.m3)\n",
    "            \n",
    "def ret():\n",
    "    return student()\n",
    "\n",
    "while(ans.lower()==\"y\"): \n",
    "    st=ret()\n",
    "    s.append(st)\n",
    "    ans = input(\"Do you wish to enter more details? (y/n) : \") \n",
    "    \n",
    "if (ans.lower()==\"n\"): \n",
    "    student.display()\n"
   ]
  },
  {
   "cell_type": "code",
   "execution_count": null,
   "metadata": {},
   "outputs": [],
   "source": []
  }
 ],
 "metadata": {
  "kernelspec": {
   "display_name": "Python 3",
   "language": "python",
   "name": "python3"
  },
  "language_info": {
   "codemirror_mode": {
    "name": "ipython",
    "version": 3
   },
   "file_extension": ".py",
   "mimetype": "text/x-python",
   "name": "python",
   "nbconvert_exporter": "python",
   "pygments_lexer": "ipython3",
   "version": "3.8.10"
  }
 },
 "nbformat": 4,
 "nbformat_minor": 4
}
